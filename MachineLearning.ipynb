{
 "cells": [
  {
   "cell_type": "markdown",
   "metadata": {},
   "source": [
    "### Machine Learning \n",
    "#### Machine learning is the name given to the tools, techniques and algorithms which are used to extract information from data.\n",
    "\n",
    "#### There are two main classes of machine learning\n",
    "#### 1. Supervised This is where you learn about the relationship between some measurement (x and y) of the data and some label of the data.Once the relationship is established, you can then use it to predict what label to apply to new measurements. Supervised learning falls into two categories:\n",
    "#### A. classification where the labels are discrete. For example identifying the species of a flower from some measurement of its petals.\n",
    "#### B. regression where the labels are continuous. For example estimating the price of a house based on its number of rooms, size of garden etc.\n",
    "\n",
    "#### 2. Unsupervised This is where you don't have any label associated with the data and the algorithm will need to extract features for itself. Examples:\n",
    "#### A. clustering\n",
    "#### B. dimensionality reduction\n",
    "\n",
    "#### In the last chapter we used a linear regression model. The algorithm that scikit-learn uses is supervised as we are providing it with both the measured quantities($x$) and the expected output(or target), $y$. Since the target was a continuous variable we were performing a regression.\n",
    "\n",
    "#### Most of the time when people think of machine learning they are thinking of a supervised algorithm."
   ]
  },
  {
   "cell_type": "markdown",
   "metadata": {},
   "source": [
    "### The supervised learning process"
   ]
  },
  {
   "cell_type": "markdown",
   "metadata": {},
   "source": [
    "#### There is a standard process that you go through with most supervised learning problems which is worth understanding as it affects how you should go about data collection as well as the typesof problems you can use it to solve. for this problem let's pretend that we want to create a model which can predict the price of  a house based on it's age, the number of rooms it has and the size of its garden.\n",
    "\n",
    "#### They all start out with the same initial data collection. You go out and collect data, $X$, this could be people's lengths or heights of leaves or trees or anything in your field which you consider easy to collect/measure. In our exampe we'd measure a large number of houses' ages, room counts and garden sizes. We put the data into a table with one row per house and hree columns, one for each feature.\n",
    "\n",
    "#### Alongside that you, as an expert, label each data point aswit some extra data and call that $y$. In our case $y$ is the price of the house. This is something which requires an expert's eye to assess and we are trying to create a predictive model which can replace the job of the expert house-price surveyor.\n",
    "\n",
    "#### Once you've collected your data, yu need to choose which model best represents the relationship between $X$ and $y$. Perhaps a linear regression is sufficient or maybe yoi need something more complex. There is no magic solution to knowing which model to use, it comes from experience and experimentation.\n",
    "\n",
    "#### Using $X$ and $y$ we train (or\"fit\") our model to predict the relationship between those two. After this point the parameters of our model are fixed and can be detached from the data that was used to train it. It is now a \"balack box\" which can make predictions.\n",
    "\n",
    "#### Imagine now that a client comes to us and asks us to estimate ow much theymight be able to sell their house for. They tell us how old the house is, how many rooms it has and the size of its garden. We put these three numbers ($x'$)  into our model and it returns for us a prediction, $\\^y$.\n",
    "\n",
    "#### Of course , $\\^y$ is just a prediction, not necessarily correct. There is usually a true value that we ae hoping that we are near to, $y$. We can measure the quality of our model by seeing how close we are to the true value by subtrating  one from the other: $y - \\^y$. This called the _residual_.\n"
   ]
  }
 ],
 "metadata": {
  "kernelspec": {
   "display_name": "Python 3",
   "language": "python",
   "name": "python3"
  },
  "language_info": {
   "codemirror_mode": {
    "name": "ipython",
    "version": 3
   },
   "file_extension": ".py",
   "mimetype": "text/x-python",
   "name": "python",
   "nbconvert_exporter": "python",
   "pygments_lexer": "ipython3",
   "version": "3.7.4"
  }
 },
 "nbformat": 4,
 "nbformat_minor": 4
}
